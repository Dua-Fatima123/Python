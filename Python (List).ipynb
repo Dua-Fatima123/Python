{
 "cells": [
  {
   "cell_type": "markdown",
   "id": "8435a71f",
   "metadata": {},
   "source": [
    "# List"
   ]
  },
  {
   "cell_type": "code",
   "execution_count": 2,
   "id": "86f39eef",
   "metadata": {},
   "outputs": [
    {
     "name": "stdout",
     "output_type": "stream",
     "text": [
      "['mango', 'banana', 'apple', 'stawbery', 'grapes']\n"
     ]
    }
   ],
   "source": [
    "# Create a List\n",
    "fruits = [\"mango\",\"banana\",\"apple\",\"stawbery\",\"grapes\"]\n",
    "print(fruits)"
   ]
  },
  {
   "cell_type": "markdown",
   "id": "1c6f16c9",
   "metadata": {},
   "source": [
    "# Prints Indexed Value from list"
   ]
  },
  {
   "cell_type": "code",
   "execution_count": 11,
   "id": "3b69f7f4",
   "metadata": {},
   "outputs": [
    {
     "name": "stdout",
     "output_type": "stream",
     "text": [
      "stawbery\n"
     ]
    }
   ],
   "source": [
    "fruits = [\"mango\",\"banana\",\"apple\",\"stawbery\",\"grapes\"]\n",
    "print(fruits[3])"
   ]
  },
  {
   "cell_type": "markdown",
   "id": "27e16cf7",
   "metadata": {},
   "source": [
    "# Getting Last item from list"
   ]
  },
  {
   "cell_type": "code",
   "execution_count": 4,
   "id": "a0c8adde",
   "metadata": {},
   "outputs": [
    {
     "name": "stdout",
     "output_type": "stream",
     "text": [
      "banana\n"
     ]
    }
   ],
   "source": [
    "\n",
    "fruits = [\"mango\",\"banana\",\"apple\",\"stawbery\",\"grapes\"]\n",
    "print(fruits[-4])"
   ]
  },
  {
   "cell_type": "markdown",
   "id": "e2b11993",
   "metadata": {},
   "source": [
    "# Prints all values one-by-one"
   ]
  },
  {
   "cell_type": "code",
   "execution_count": 5,
   "id": "b1d4ea04",
   "metadata": {},
   "outputs": [
    {
     "name": "stdout",
     "output_type": "stream",
     "text": [
      "mango\n",
      "banana\n",
      "apple\n",
      "stawbery\n",
      "grapes\n"
     ]
    }
   ],
   "source": [
    "\n",
    "fruits = [\"mango\",\"banana\",\"apple\",\"stawbery\",\"grapes\"]\n",
    "\n",
    "for x in fruits:\n",
    "    print(x)"
   ]
  },
  {
   "cell_type": "markdown",
   "id": "82dac1dc",
   "metadata": {},
   "source": [
    "# Making Numerical Lists"
   ]
  },
  {
   "cell_type": "code",
   "execution_count": 6,
   "id": "9b8c7ded",
   "metadata": {},
   "outputs": [
    {
     "name": "stdout",
     "output_type": "stream",
     "text": [
      "[1, 4, 9, 16, 25, 36, 49, 64, 81, 100]\n",
      "[1, 4, 9, 16, 25, 36, 49, 64, 81, 100, 121, 144]\n"
     ]
    }
   ],
   "source": [
    "\n",
    "number = []\n",
    "for x in range(1, 11):\n",
    "    number.append(x**2)\n",
    "print(number)\n",
    "\n",
    "#extra\n",
    "num = []\n",
    "for x in range(1, 13):\n",
    "    num.append(x**2)\n",
    "print(num)"
   ]
  },
  {
   "cell_type": "markdown",
   "id": "f7d4ef2d",
   "metadata": {},
   "source": [
    "# List Comprehension"
   ]
  },
  {
   "cell_type": "code",
   "execution_count": 13,
   "id": "affdada4",
   "metadata": {},
   "outputs": [
    {
     "name": "stdout",
     "output_type": "stream",
     "text": [
      "[1, 4, 9, 16, 25, 36, 49, 64, 81, 100]\n",
      "[3, 4, 5, 6, 7, 8, 9, 10, 11, 12]\n",
      "[-1, 0, 1, 2, 3, 4, 5, 6, 7, 8]\n"
     ]
    }
   ],
   "source": [
    "num = [x**2 for x in range(1, 11)]\n",
    "print(num)\n",
    "\n",
    "#extra\n",
    "num = [x+2 for x in range(1, 11)]\n",
    "print(num)\n",
    "\n",
    "num = [x-2 for x in range(1, 11)]\n",
    "print(num)"
   ]
  },
  {
   "cell_type": "markdown",
   "id": "4e52ac73",
   "metadata": {},
   "source": [
    "# Selecting first 2 elements"
   ]
  },
  {
   "cell_type": "code",
   "execution_count": 14,
   "id": "21e32b84",
   "metadata": {},
   "outputs": [
    {
     "name": "stdout",
     "output_type": "stream",
     "text": [
      "[1, 4]\n",
      "[3, 4]\n"
     ]
    }
   ],
   "source": [
    "num = [x**2 for x in range(1, 11)]\n",
    "print(num[:2])\n",
    "\n",
    "#extra\n",
    "num = [x+2 for x in range(1, 11)]\n",
    "print(num[:2])"
   ]
  },
  {
   "cell_type": "markdown",
   "id": "967d1525",
   "metadata": {},
   "source": [
    "# Copying a List"
   ]
  },
  {
   "cell_type": "code",
   "execution_count": 9,
   "id": "f9d48eb2",
   "metadata": {},
   "outputs": [
    {
     "name": "stdout",
     "output_type": "stream",
     "text": [
      "[1, 4, 9, 16, 25, 36, 49, 64, 81, 100]\n",
      "[0.5, 1.0, 1.5, 2.0, 2.5, 3.0, 3.5, 4.0, 4.5, 5.0]\n"
     ]
    }
   ],
   "source": [
    "num = [x**2 for x in range(1, 11)]\n",
    "copied_list = num[:]\n",
    "print(copied_list)\n",
    "\n",
    "#extra\n",
    "num = [x/2 for x in range(1, 11)]\n",
    "copied_list = num[:]\n",
    "print(num)"
   ]
  },
  {
   "cell_type": "markdown",
   "id": "0e470fbb",
   "metadata": {},
   "source": [
    "# Append Method"
   ]
  },
  {
   "cell_type": "code",
   "execution_count": 10,
   "id": "0764e8b8",
   "metadata": {},
   "outputs": [
    {
     "name": "stdout",
     "output_type": "stream",
     "text": [
      "[21, 'python', (9+1j), (2+2j), 'Dua', 'Fatima']\n"
     ]
    }
   ],
   "source": [
    "d = [21, \"python\", \"cdf\", 2+2j]\n",
    "\n",
    "d[2] = 9+1j\n",
    "d.append(\"Dua\")\n",
    "d.append(\"Fatima\")\n",
    "print(d)\n"
   ]
  },
  {
   "cell_type": "markdown",
   "id": "8826f3e8",
   "metadata": {},
   "source": [
    "# Tuple"
   ]
  },
  {
   "cell_type": "code",
   "execution_count": 15,
   "id": "98a57b7a",
   "metadata": {},
   "outputs": [
    {
     "name": "stdout",
     "output_type": "stream",
     "text": [
      "(1920, 1080)\n"
     ]
    }
   ],
   "source": [
    "# making a tuple (A Tuple is same like list, but the value of tuple can't changed or modified)\n",
    "dimensions_tuple = (1920, 1080)\n",
    "\n",
    "print(dimensions_tuple)"
   ]
  },
  {
   "cell_type": "code",
   "execution_count": null,
   "id": "d6f28b21",
   "metadata": {},
   "outputs": [],
   "source": []
  }
 ],
 "metadata": {
  "kernelspec": {
   "display_name": "Python 3 (ipykernel)",
   "language": "python",
   "name": "python3"
  },
  "language_info": {
   "codemirror_mode": {
    "name": "ipython",
    "version": 3
   },
   "file_extension": ".py",
   "mimetype": "text/x-python",
   "name": "python",
   "nbconvert_exporter": "python",
   "pygments_lexer": "ipython3",
   "version": "3.10.9"
  }
 },
 "nbformat": 4,
 "nbformat_minor": 5
}
