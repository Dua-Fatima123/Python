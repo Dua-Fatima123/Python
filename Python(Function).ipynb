{
  "nbformat": 4,
  "nbformat_minor": 0,
  "metadata": {
    "colab": {
      "provenance": [],
      "authorship_tag": "ABX9TyMf7K7ISFO8T304MpzYs3np",
      "include_colab_link": true
    },
    "kernelspec": {
      "name": "python3",
      "display_name": "Python 3"
    },
    "language_info": {
      "name": "python"
    }
  },
  "cells": [
    {
      "cell_type": "markdown",
      "metadata": {
        "id": "view-in-github",
        "colab_type": "text"
      },
      "source": [
        "<a href=\"https://colab.research.google.com/github/Dua-Fatima123/Python/blob/main/Python(Function).ipynb\" target=\"_parent\"><img src=\"https://colab.research.google.com/assets/colab-badge.svg\" alt=\"Open In Colab\"/></a>"
      ]
    },
    {
      "cell_type": "markdown",
      "source": [
        "## Creating a Function"
      ],
      "metadata": {
        "id": "5xavWjPAxkLR"
      }
    },
    {
      "cell_type": "code",
      "source": [
        "def function():\n",
        "    print(\"Dua Bukhari\")"
      ],
      "metadata": {
        "id": "QXEo-MNqko5v"
      },
      "execution_count": null,
      "outputs": []
    },
    {
      "cell_type": "markdown",
      "source": [
        "# Calling a Function"
      ],
      "metadata": {
        "id": "2W7MGqF-x9oD"
      }
    },
    {
      "cell_type": "code",
      "source": [
        "def function():\n",
        "    print(\"Dua Bukhari\")\n",
        "\n",
        "function()"
      ],
      "metadata": {
        "colab": {
          "base_uri": "https://localhost:8080/"
        },
        "id": "Dgv1oNb1p-Fd",
        "outputId": "94da530d-bf14-499d-8279-d6affe593ea9"
      },
      "execution_count": null,
      "outputs": [
        {
          "output_type": "stream",
          "name": "stdout",
          "text": [
            "Dua Bukhari\n"
          ]
        }
      ]
    },
    {
      "cell_type": "markdown",
      "source": [
        "# Function with Variable"
      ],
      "metadata": {
        "id": "3K08MmpvyMN-"
      }
    },
    {
      "cell_type": "code",
      "source": [
        "def function(age):\n",
        "    print(\"Your age is \" + age + \".\")\n",
        "\n",
        "age = input(\"What is your age: \")\n",
        "function(age)"
      ],
      "metadata": {
        "colab": {
          "base_uri": "https://localhost:8080/"
        },
        "id": "bO6QGqzMyHJ1",
        "outputId": "b52667e8-d26b-4693-e4eb-e3365aa952b6"
      },
      "execution_count": null,
      "outputs": [
        {
          "output_type": "stream",
          "name": "stdout",
          "text": [
            "What is your age: 21\n",
            "Your age is 21.\n"
          ]
        }
      ]
    },
    {
      "cell_type": "code",
      "source": [
        "def function(name = 'Dua'):\n",
        "    print(\"Hello \" + name + \"!\")\n",
        "\n",
        "\n",
        "function()\n",
        "name = input(\"What is your name: \")\n",
        "function(name)"
      ],
      "metadata": {
        "id": "vnXX1O6Wypky",
        "colab": {
          "base_uri": "https://localhost:8080/"
        },
        "outputId": "160bbd7d-db32-463e-edaa-44fe7efa636c"
      },
      "execution_count": 10,
      "outputs": [
        {
          "output_type": "stream",
          "name": "stdout",
          "text": [
            "Hello Dua!\n",
            "What is your name: Syeda Dua Fatima\n",
            "Hello Syeda Dua Fatima!\n"
          ]
        }
      ]
    },
    {
      "cell_type": "code",
      "source": [
        "def function(x, y):\n",
        "    sum = int(x) + int(y)\n",
        "    return sum\n",
        "\n",
        "\n",
        "x = input(\"Enter 1st Number: \")\n",
        "y = input(\"Enter 2nd Number: \")\n",
        "\n",
        "a = function(x, y)\n",
        "\n",
        "print(a)\n"
      ],
      "metadata": {
        "colab": {
          "base_uri": "https://localhost:8080/"
        },
        "id": "timp6Q1Vzb85",
        "outputId": "87493608-0492-46d9-83a7-555c19564652"
      },
      "execution_count": 11,
      "outputs": [
        {
          "output_type": "stream",
          "name": "stdout",
          "text": [
            "Enter 1st Number: 21\n",
            "Enter 2nd Number: 32\n",
            "53\n"
          ]
        }
      ]
    },
    {
      "cell_type": "code",
      "source": [
        "#extra\n",
        "def function(x, y):\n",
        "    sum = int(x) * int(y)\n",
        "    return sum\n",
        "\n",
        "\n",
        "x = input(\"Enter 1st Number: \")\n",
        "y = input(\"Enter 2nd Number: \")\n",
        "\n",
        "a = function(x, y)\n",
        "\n",
        "print(a)"
      ],
      "metadata": {
        "colab": {
          "base_uri": "https://localhost:8080/"
        },
        "id": "Zb_syAJ_0O-w",
        "outputId": "abaa1f5a-f0e9-4d50-ae75-a1f33a5debce"
      },
      "execution_count": 13,
      "outputs": [
        {
          "output_type": "stream",
          "name": "stdout",
          "text": [
            "Enter 1st Number: 11\n",
            "Enter 2nd Number: 12\n",
            "132\n"
          ]
        }
      ]
    },
    {
      "cell_type": "code",
      "source": [
        "def function(x = '0', y = '0'):\n",
        "    sum = int(x) + int(y)\n",
        "    return sum\n",
        "\n",
        "\n",
        "x = input(\"Enter 1st Number: \")\n",
        "y = input(\"Enter 2nd Number: \")\n",
        "\n",
        "a = function(x, y)\n",
        "\n",
        "print(a)"
      ],
      "metadata": {
        "colab": {
          "base_uri": "https://localhost:8080/"
        },
        "id": "78622OPhzvSt",
        "outputId": "948c5162-446e-48f7-fae4-b36eab8ec19e"
      },
      "execution_count": 12,
      "outputs": [
        {
          "output_type": "stream",
          "name": "stdout",
          "text": [
            "Enter 1st Number: 11\n",
            "Enter 2nd Number: 12\n",
            "23\n"
          ]
        }
      ]
    },
    {
      "cell_type": "code",
      "source": [
        "#extra\n",
        "def function(x = '0', y = '0'):\n",
        "    sum = int(x) / int(y)\n",
        "    return sum\n",
        "\n",
        "\n",
        "x = input(\"Enter 1st Number: \")\n",
        "y = input(\"Enter 2nd Number: \")\n",
        "\n",
        "a = function(x, y)\n",
        "\n",
        "print(a)"
      ],
      "metadata": {
        "colab": {
          "base_uri": "https://localhost:8080/"
        },
        "id": "Z0le7jUW0kTa",
        "outputId": "5c921d5b-ecd7-4463-bcb8-3a60f8541de4"
      },
      "execution_count": 14,
      "outputs": [
        {
          "output_type": "stream",
          "name": "stdout",
          "text": [
            "Enter 1st Number: 12\n",
            "Enter 2nd Number: 4\n",
            "3.0\n"
          ]
        }
      ]
    },
    {
      "cell_type": "markdown",
      "source": [
        "# Using Positional Arguments"
      ],
      "metadata": {
        "id": "9hCSfQ_h0yNP"
      }
    },
    {
      "cell_type": "code",
      "source": [
        "def describe_pet(animal = 'hamster', name = 'None'):\n",
        "    \"\"\"Display information about a pet.\"\"\"\n",
        "    print(\"\\nI have a \" + animal + \".\")\n",
        "    print(\"Its name is \" + name + \".\")\n",
        "\n",
        "\n",
        "describe_pet('hamster', 'harry')\n",
        "describe_pet('dog', 'willie')\n",
        "\n",
        "describe_pet()\n",
        "describe_pet(animal='lion', name='Simba')"
      ],
      "metadata": {
        "colab": {
          "base_uri": "https://localhost:8080/"
        },
        "id": "rkx2chagz7mT",
        "outputId": "7fe2ae65-153a-4bbf-a1e9-96d9227c47da"
      },
      "execution_count": 15,
      "outputs": [
        {
          "output_type": "stream",
          "name": "stdout",
          "text": [
            "\n",
            "I have a hamster.\n",
            "Its name is harry.\n",
            "\n",
            "I have a dog.\n",
            "Its name is willie.\n",
            "\n",
            "I have a hamster.\n",
            "Its name is None.\n",
            "\n",
            "I have a lion.\n",
            "Its name is Simba.\n"
          ]
        }
      ]
    },
    {
      "cell_type": "code",
      "source": [
        "#extra\n",
        "def describe_car(owner='John', make='Toyota', model='Camry'):\n",
        "    \"\"\"Display information about a car and its owner.\"\"\"\n",
        "    print(\"\\nThis car is owned by \" + owner + \".\")\n",
        "    print(\"It is a \" + make + \" \" + model + \".\")\n",
        "\n",
        "describe_car('Alice', 'Ford', 'Mustang')\n",
        "describe_car('Bob', 'Honda', 'Civic')\n",
        "\n",
        "describe_car()\n",
        "describe_car(owner='Eve', make='Tesla', model='Model 3')"
      ],
      "metadata": {
        "colab": {
          "base_uri": "https://localhost:8080/"
        },
        "id": "Ywj6qtst0-Ya",
        "outputId": "60e7c3cc-6433-4320-e12f-495fb3a7c453"
      },
      "execution_count": 18,
      "outputs": [
        {
          "output_type": "stream",
          "name": "stdout",
          "text": [
            "\n",
            "This car is owned by Alice.\n",
            "It is a Ford Mustang.\n",
            "\n",
            "This car is owned by Bob.\n",
            "It is a Honda Civic.\n",
            "\n",
            "This car is owned by John.\n",
            "It is a Toyota Camry.\n",
            "\n",
            "This car is owned by Eve.\n",
            "It is a Tesla Model 3.\n"
          ]
        }
      ]
    },
    {
      "cell_type": "markdown",
      "source": [
        "# Using Keyword Arguments"
      ],
      "metadata": {
        "id": "0Ws1O8pm14yj"
      }
    },
    {
      "cell_type": "code",
      "source": [
        "def describe_item(item, color):\n",
        "    \"\"\"Display information about an item.\"\"\"\n",
        "    print(\"\\nI have a \" + color + \" \" + item + \".\")\n",
        "\n",
        "describe_item(item='bike', color='red')\n",
        "describe_item(color='blue', item='book')"
      ],
      "metadata": {
        "colab": {
          "base_uri": "https://localhost:8080/"
        },
        "id": "wQylOD0c1n9q",
        "outputId": "e19efe38-9a82-4587-e093-0fe4d830ad7b"
      },
      "execution_count": 20,
      "outputs": [
        {
          "output_type": "stream",
          "name": "stdout",
          "text": [
            "\n",
            "I have a red bike.\n",
            "\n",
            "I have a blue book.\n"
          ]
        }
      ]
    },
    {
      "cell_type": "markdown",
      "source": [
        "# Returning Single Value"
      ],
      "metadata": {
        "id": "iuSpL1rA3S6I"
      }
    },
    {
      "cell_type": "code",
      "source": [
        "def get_full_name(first, last):\n",
        "    full_name = first + ' ' + last\n",
        "    return full_name.title()\n",
        "\n",
        "person = get_full_name('Dua', 'Bukhari')\n",
        "print(person)"
      ],
      "metadata": {
        "colab": {
          "base_uri": "https://localhost:8080/"
        },
        "id": "mWWzQek318lj",
        "outputId": "f0d1fc93-1edd-4e82-d373-9fc8b07d729c"
      },
      "execution_count": 25,
      "outputs": [
        {
          "output_type": "stream",
          "name": "stdout",
          "text": [
            "Dua Bukhari\n"
          ]
        }
      ]
    },
    {
      "cell_type": "markdown",
      "source": [
        "# Return Dictionary for a person"
      ],
      "metadata": {
        "id": "HR5TQ62o5BoN"
      }
    },
    {
      "cell_type": "code",
      "source": [
        "\n",
        "def build_person(first, last, age=None):\n",
        "    person = {'first': first, 'last': last}\n",
        "    if age:\n",
        "        person['age'] = age\n",
        "\n",
        "    return person\n",
        "\n",
        "\n",
        "musician = build_person('jimi', 'hendrix', 27)\n",
        "print(musician)\n",
        "musician = build_person('janis', 'joplin')\n",
        "print(musician)"
      ],
      "metadata": {
        "colab": {
          "base_uri": "https://localhost:8080/"
        },
        "id": "qS8ImYmS2iE3",
        "outputId": "f00e9176-ae6a-4fd4-9cf8-711973295272"
      },
      "execution_count": 26,
      "outputs": [
        {
          "output_type": "stream",
          "name": "stdout",
          "text": [
            "{'first': 'jimi', 'last': 'hendrix', 'age': 27}\n",
            "{'first': 'janis', 'last': 'joplin'}\n"
          ]
        }
      ]
    },
    {
      "cell_type": "code",
      "source": [
        "def build_person(first_name, last_name, city=None, age=None):\n",
        "    person = {'first_name': first_name, 'last_name': last_name}\n",
        "    if age:\n",
        "        person['age'] = age\n",
        "    if city:\n",
        "        person['city'] = city\n",
        "\n",
        "    return person\n",
        "\n",
        "person1 = build_person('Dua', 'Fatima', 'Bahawalpur', 21)\n",
        "print(person1)\n",
        "\n",
        "person2 = build_person('Fatima', 'Bukhari', age=25)\n",
        "print(person2)\n",
        "\n",
        "person3 = build_person('Sana', 'Saleem')\n",
        "print(person3)"
      ],
      "metadata": {
        "colab": {
          "base_uri": "https://localhost:8080/"
        },
        "id": "ghhl9XiD4JA_",
        "outputId": "39f9ff67-12a1-4139-d2dc-c30a7e95a4fe"
      },
      "execution_count": 28,
      "outputs": [
        {
          "output_type": "stream",
          "name": "stdout",
          "text": [
            "{'first_name': 'Dua', 'last_name': 'Fatima', 'age': 21, 'city': 'Bahawalpur'}\n",
            "{'first_name': 'Fatima', 'last_name': 'Bukhari', 'age': 25}\n",
            "{'first_name': 'Sana', 'last_name': 'Saleem'}\n"
          ]
        }
      ]
    },
    {
      "cell_type": "code",
      "source": [],
      "metadata": {
        "id": "vf8_aigm4zym"
      },
      "execution_count": null,
      "outputs": []
    }
  ]
}