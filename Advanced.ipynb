{
  "nbformat": 4,
  "nbformat_minor": 0,
  "metadata": {
    "colab": {
      "provenance": [],
      "mount_file_id": "1z0_Sdwk1LgbMWCAJjp2kt82yeX_xRKEt",
      "authorship_tag": "ABX9TyPY9u7PwWdWiO8R0srEV1Y2",
      "include_colab_link": true
    },
    "kernelspec": {
      "name": "python3",
      "display_name": "Python 3"
    },
    "language_info": {
      "name": "python"
    }
  },
  "cells": [
    {
      "cell_type": "markdown",
      "metadata": {
        "id": "view-in-github",
        "colab_type": "text"
      },
      "source": [
        "<a href=\"https://colab.research.google.com/github/Dua-Fatima123/Python/blob/main/Advanced.ipynb\" target=\"_parent\"><img src=\"https://colab.research.google.com/assets/colab-badge.svg\" alt=\"Open In Colab\"/></a>"
      ]
    },
    {
      "cell_type": "markdown",
      "source": [
        "# Number Conversions (Binary, Octal, Hex)"
      ],
      "metadata": {
        "id": "Hgws8bVhnIJ8"
      }
    },
    {
      "cell_type": "code",
      "source": [
        "a = 46\n",
        "b = 0o106\n",
        "\n",
        "\n",
        "\n",
        "print(hex(a))\n",
        "print(oct(a))\n",
        "print(bin(a))\n",
        "print(b)"
      ],
      "metadata": {
        "colab": {
          "base_uri": "https://localhost:8080/"
        },
        "id": "jDtzEtgInLEk",
        "outputId": "0e9876f3-daf4-4c5c-d117-efaa6b8941ef"
      },
      "execution_count": null,
      "outputs": [
        {
          "output_type": "stream",
          "name": "stdout",
          "text": [
            "0x2e\n",
            "0o56\n",
            "0b101110\n",
            "70\n"
          ]
        }
      ]
    },
    {
      "cell_type": "markdown",
      "source": [
        "# Built-In Object Types\n"
      ],
      "metadata": {
        "id": "p6Jgrpq3pM2E"
      }
    },
    {
      "cell_type": "code",
      "source": [
        "number = 1000\n",
        "string = 'Dua'\n",
        "lis = ['name','number', 21]\n",
        "tup = ('name', 'number', 21)\n",
        "dictionary = {'name':string, 'number':number, 'age': 21}\n",
        "file = open(\"/Advanced.txt\", 'r').read()"
      ],
      "metadata": {
        "id": "UZq5ruAAnPi0"
      },
      "execution_count": 4,
      "outputs": []
    },
    {
      "cell_type": "code",
      "source": [
        "with open(\"/Advanced.txt\", 'r') as file:\n",
        "    file_content = file.read()\n",
        "\n",
        "print(file_content)"
      ],
      "metadata": {
        "colab": {
          "base_uri": "https://localhost:8080/"
        },
        "id": "w2wYypXKNoWs",
        "outputId": "dbd809ee-7a03-4c86-e5c8-b7cb2d7a3cc3"
      },
      "execution_count": 6,
      "outputs": [
        {
          "output_type": "stream",
          "name": "stdout",
          "text": [
            "Hello guyzz!!!\n",
            "i am learning file handling in python\n",
            "i am doing BS Artificial Intelligence in IUB\n"
          ]
        }
      ]
    },
    {
      "cell_type": "code",
      "source": [
        "# Variable Assignment\n",
        "firstName = \"Dua\"\n",
        "fullName = \"Syeda Dua Fatima\"\n",
        "\n",
        "# PRINTING VARIABLES\n",
        "print(firstName)\n",
        "print(fullName)\n",
        "\n",
        "#User Input\n",
        "score1 = int(input(\"Enter the score 1: \"))\n",
        "score2 = int(input(\"Enter the score 2: \"))\n",
        "\n",
        "# Arithmetic Operations and String Formatting\n",
        "totalString = score1 + score2\n",
        "messageString = \"Total score is %s \"\n",
        "\n",
        "print(messageString % totalString)\n",
        "\n",
        "# Another Approach for Arithmetic Operations and String Formatting\n",
        "\n",
        "totalInt = int(score1) + int(score2)\n",
        "messageString = \"Total score is %s \"\n",
        "print(messageString % totalInt)\n",
        "\n",
        "# User Input and Complex String Formatting\n",
        "\n",
        "score1 = int(input(\"Enter the score 1: \"))\n",
        "score2 = int(input(\"Enter the score 2: \"))\n",
        "total = score1 + score2\n",
        "messageString = \"score1(%s ) + score2[%s ] = %s \"\n",
        "print(messageString % (score1, score2, total))"
      ],
      "metadata": {
        "colab": {
          "base_uri": "https://localhost:8080/"
        },
        "id": "qnKt0uF0OpkE",
        "outputId": "fa67e697-b38b-4dbe-bf00-3391511e3a45"
      },
      "execution_count": 8,
      "outputs": [
        {
          "output_type": "stream",
          "name": "stdout",
          "text": [
            "Dua\n",
            "Syeda Dua Fatima\n",
            "Enter the score 1: 12\n",
            "Enter the score 2: 22\n",
            "Total score is 34 \n",
            "Total score is 34 \n",
            "Enter the score 1: 44\n",
            "Enter the score 2: 43\n",
            "score1(44 ) + score2[43 ] = 87 \n"
          ]
        }
      ]
    },
    {
      "cell_type": "code",
      "source": [
        "# Variable Assignment\n",
        "employeeName = \"Dua\"\n",
        "jobTitle = \"Machine learning Engineer\"\n",
        "\n",
        "# PRINTING VARIABLES\n",
        "print(\"Employee Name:\", employeeName)\n",
        "print(\"Job Title:\", jobTitle)\n",
        "\n",
        "# User Input\n",
        "salary1 = int(input(\"Enter the first month's salary: \"))\n",
        "salary2 = int(input(\"Enter the second month's salary: \"))\n",
        "\n",
        "# Arithmetic Operations and String Formatting\n",
        "totalSalary = salary1 + salary2\n",
        "message = \"Total salary for two months is %s dollars\"\n",
        "\n",
        "print(message % totalSalary)\n",
        "\n",
        "# Another Approach for Arithmetic Operations and String Formatting\n",
        "\n",
        "totalSalaryInt = int(salary1) + int(salary2)\n",
        "message = \"Total salary for two months is %s dollars\"\n",
        "print(message % totalSalaryInt)\n",
        "\n",
        "# User Input and Complex String Formatting\n",
        "\n",
        "bonus1 = int(input(\"Enter the first month's bonus: \"))\n",
        "bonus2 = int(input(\"Enter the second month's bonus: \"))\n",
        "totalBonus = bonus1 + bonus2\n",
        "\n",
        "message = \"Employee's earnings: Salary(%s) + Bonus(%s) = Total Earnings(%s) dollars\"\n",
        "print(message % (salary1, bonus2, totalBonus))"
      ],
      "metadata": {
        "colab": {
          "base_uri": "https://localhost:8080/"
        },
        "id": "La7O9v2oPtZy",
        "outputId": "ca2ec5ef-5ed7-419e-8e3a-730a29756780"
      },
      "execution_count": 9,
      "outputs": [
        {
          "output_type": "stream",
          "name": "stdout",
          "text": [
            "Employee Name: Dua\n",
            "Job Title: Machine learning Engineer\n",
            "Enter the first month's salary: 120\n",
            "Enter the second month's salary: 123\n",
            "Total salary for two months is 243 dollars\n",
            "Total salary for two months is 243 dollars\n",
            "Enter the first month's bonus: 50\n",
            "Enter the second month's bonus: 55\n",
            "Employee's earnings: Salary(120) + Bonus(55) = Total Earnings(105) dollars\n"
          ]
        }
      ]
    },
    {
      "cell_type": "markdown",
      "source": [
        "# Direct Number Conversion"
      ],
      "metadata": {
        "id": "q6RM2mCITHNC"
      }
    },
    {
      "cell_type": "code",
      "source": [
        "print('{:06b}'.format(10))\n",
        "print('{:07x}'.format(8))\n",
        "print('{:2x}'.format(2))"
      ],
      "metadata": {
        "colab": {
          "base_uri": "https://localhost:8080/"
        },
        "id": "EZDQJq8LSioB",
        "outputId": "ffb95992-7dc2-4eb9-8584-763c2e8fcf27"
      },
      "execution_count": 10,
      "outputs": [
        {
          "output_type": "stream",
          "name": "stdout",
          "text": [
            "001010\n",
            "0000008\n",
            " 2\n"
          ]
        }
      ]
    },
    {
      "cell_type": "markdown",
      "source": [
        "# Direct Number Conversion with zfill"
      ],
      "metadata": {
        "id": "0DSt0unsTWq4"
      }
    },
    {
      "cell_type": "code",
      "source": [
        "print('{:06b}'.format(10).zfill(14))\n",
        "print('{:07x}'.format(8).zfill(14))\n",
        "print('{:2x}'.format(2).zfill(14))"
      ],
      "metadata": {
        "colab": {
          "base_uri": "https://localhost:8080/"
        },
        "id": "YZvEjkfaTAFd",
        "outputId": "df610546-42ea-4ca6-be5c-4d91e08cd7d9"
      },
      "execution_count": 11,
      "outputs": [
        {
          "output_type": "stream",
          "name": "stdout",
          "text": [
            "00000000001010\n",
            "00000000000008\n",
            "000000000000 2\n"
          ]
        }
      ]
    },
    {
      "cell_type": "code",
      "source": [],
      "metadata": {
        "id": "flth8WRtTVB1"
      },
      "execution_count": null,
      "outputs": []
    }
  ]
}