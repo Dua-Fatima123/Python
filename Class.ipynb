{
  "nbformat": 4,
  "nbformat_minor": 0,
  "metadata": {
    "colab": {
      "provenance": [],
      "authorship_tag": "ABX9TyOlltTEhmYSbk9YP/ry55aj",
      "include_colab_link": true
    },
    "kernelspec": {
      "name": "python3",
      "display_name": "Python 3"
    },
    "language_info": {
      "name": "python"
    }
  },
  "cells": [
    {
      "cell_type": "markdown",
      "metadata": {
        "id": "view-in-github",
        "colab_type": "text"
      },
      "source": [
        "<a href=\"https://colab.research.google.com/github/Dua-Fatima123/Python/blob/main/Class.ipynb\" target=\"_parent\"><img src=\"https://colab.research.google.com/assets/colab-badge.svg\" alt=\"Open In Colab\"/></a>"
      ]
    },
    {
      "cell_type": "markdown",
      "source": [
        "# Creating a Class"
      ],
      "metadata": {
        "id": "rAY-E3yUe74e"
      }
    },
    {
      "cell_type": "code",
      "source": [
        "class Dog():\n",
        "    def __init__(self, name):\n",
        "        self.name = name\n",
        "    def sit(self):\n",
        "        print(self.name + \" is sitting.\")\n",
        "\n",
        "\n",
        "my_dog = Dog('Peso')\n",
        "print(my_dog.name + \" is a great dog!\")\n",
        "my_dog.sit()"
      ],
      "metadata": {
        "id": "LQVuunEIpd5B",
        "colab": {
          "base_uri": "https://localhost:8080/"
        },
        "outputId": "5efc2a3f-5cec-482f-80bc-0fac25367ff0"
      },
      "execution_count": 1,
      "outputs": [
        {
          "output_type": "stream",
          "name": "stdout",
          "text": [
            "Peso is a great dog!\n",
            "Peso is sitting.\n"
          ]
        }
      ]
    },
    {
      "cell_type": "code",
      "source": [
        "class Cat:\n",
        "    def __init__(self, name):\n",
        "        self.name = name\n",
        "\n",
        "    def meow(self):\n",
        "        print(self.name + \" is meowing.\")\n",
        "\n",
        "my_cat = Cat('Whiskers')\n",
        "print(my_cat.name + \" is a playful cat!\")\n",
        "my_cat.meow()"
      ],
      "metadata": {
        "colab": {
          "base_uri": "https://localhost:8080/"
        },
        "id": "ITeLuit6fC0-",
        "outputId": "ee6871eb-0074-4f7c-ae2a-f5020cd4d885"
      },
      "execution_count": 2,
      "outputs": [
        {
          "output_type": "stream",
          "name": "stdout",
          "text": [
            "Whiskers is a playful cat!\n",
            "Whiskers is meowing.\n"
          ]
        }
      ]
    },
    {
      "cell_type": "markdown",
      "source": [
        "# Inheritence"
      ],
      "metadata": {
        "id": "BE7GDAOcf7nM"
      }
    },
    {
      "cell_type": "code",
      "source": [
        "class Dog():\n",
        "    def __init__(self, name):\n",
        "        self.name = name\n",
        "    def sit(self):\n",
        "        print(self.name + \" is sitting.\")\n",
        "\n",
        "class SARDog(Dog):\n",
        "    def __init__(self, name):\n",
        "        super().__init__(name)\n",
        "    def search(self):\n",
        "        print(self.name + \" is searching.\")\n",
        "\n",
        "\n",
        "my_dog = SARDog('Willie')\n",
        "print(my_dog.name + \" is a search dog.\")\n",
        "my_dog.sit()\n",
        "my_dog.search()"
      ],
      "metadata": {
        "colab": {
          "base_uri": "https://localhost:8080/"
        },
        "id": "aCrlHfTxftwa",
        "outputId": "a6de8ef4-3853-48e2-b181-1946fc852734"
      },
      "execution_count": 3,
      "outputs": [
        {
          "output_type": "stream",
          "name": "stdout",
          "text": [
            "Willie is a search dog.\n",
            "Willie is sitting.\n",
            "Willie is searching.\n"
          ]
        }
      ]
    },
    {
      "cell_type": "code",
      "source": [
        "class Bird:\n",
        "    def __init__(self, name):\n",
        "        self.name = name\n",
        "\n",
        "    def fly(self):\n",
        "        print(self.name + \" is flying.\")\n",
        "\n",
        "class Penguin(Bird):\n",
        "    def __init__(self, name):\n",
        "        super().__init__(name)\n",
        "\n",
        "    def swim(self):\n",
        "        print(self.name + \" is swimming.\")\n",
        "\n",
        "my_penguin = Penguin('Percy')\n",
        "print(my_penguin.name + \" is a penguin.\")\n",
        "my_penguin.fly()\n",
        "my_penguin.swim()"
      ],
      "metadata": {
        "colab": {
          "base_uri": "https://localhost:8080/"
        },
        "id": "DRp1VU1tf9sC",
        "outputId": "fc18e8aa-151a-4738-af79-56be8a74181a"
      },
      "execution_count": 4,
      "outputs": [
        {
          "output_type": "stream",
          "name": "stdout",
          "text": [
            "Percy is a penguin.\n",
            "Percy is flying.\n",
            "Percy is swimming.\n"
          ]
        }
      ]
    },
    {
      "cell_type": "code",
      "source": [
        "class Car():\n",
        "\n",
        "    def __init__(self, make, model, year):\n",
        "\n",
        "        self.make = make\n",
        "        self.model = model\n",
        "        self.year = year\n",
        "        # Fuel capacity and level in gallons.\n",
        "        self.fuel_capacity = 15\n",
        "        self.fuel_level = 0\n",
        "\n",
        "    def fill_tank(self):\n",
        "        self.fuel_level = self.fuel_capacity\n",
        "        print(\"Fuel tank is full.\")\n",
        "\n",
        "    def drive(self):\n",
        "        print(\"The car is moving.\")\n",
        "\n",
        "\n",
        "car = Car('Ferrai', '2X', 2023)\n",
        "\n",
        "print(car.fill_tank())"
      ],
      "metadata": {
        "colab": {
          "base_uri": "https://localhost:8080/"
        },
        "id": "sr-Tg9q0gX7f",
        "outputId": "c57d69a1-6fad-4b47-8ee8-e102458b461f"
      },
      "execution_count": 5,
      "outputs": [
        {
          "output_type": "stream",
          "name": "stdout",
          "text": [
            "Fuel tank is full.\n",
            "None\n"
          ]
        }
      ]
    },
    {
      "cell_type": "code",
      "source": [
        "class Bicycle:\n",
        "    def __init__(self, brand, model, year):\n",
        "        self.brand = brand\n",
        "        self.model = model\n",
        "        self.year = year\n",
        "        self.tire_pressure = 30  # Tire pressure in psi\n",
        "\n",
        "    def inflate_tires(self, psi):\n",
        "        self.tire_pressure = psi\n",
        "        print(f\"Tires are now inflated to {psi} psi.\")\n",
        "\n",
        "    def ride(self):\n",
        "        print(\"The bicycle is in motion.\")\n",
        "\n",
        "# Create a Bicycle object\n",
        "my_bike = Bicycle('Trek', 'Mountain Bike', 2022)\n",
        "\n",
        "# Inflate the tires\n",
        "my_bike.inflate_tires(40)\n",
        "\n",
        "# Start riding the bicycle\n",
        "my_bike.ride()"
      ],
      "metadata": {
        "colab": {
          "base_uri": "https://localhost:8080/"
        },
        "id": "6V39fbHggftP",
        "outputId": "849d08a1-2f89-4569-c85a-8c1126bc3337"
      },
      "execution_count": 6,
      "outputs": [
        {
          "output_type": "stream",
          "name": "stdout",
          "text": [
            "Tires are now inflated to 40 psi.\n",
            "The bicycle is in motion.\n"
          ]
        }
      ]
    },
    {
      "cell_type": "code",
      "source": [],
      "metadata": {
        "id": "8Pzz9HKlgt86"
      },
      "execution_count": null,
      "outputs": []
    }
  ]
}