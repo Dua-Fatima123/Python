{
  "nbformat": 4,
  "nbformat_minor": 0,
  "metadata": {
    "colab": {
      "provenance": [],
      "mount_file_id": "1uYv3V_nd3QB54SxDQerIgLdhx4D6ZWjz",
      "authorship_tag": "ABX9TyPQ5aHz2g2uR7mu/Y2BfM9z",
      "include_colab_link": true
    },
    "kernelspec": {
      "name": "python3",
      "display_name": "Python 3"
    },
    "language_info": {
      "name": "python"
    }
  },
  "cells": [
    {
      "cell_type": "markdown",
      "metadata": {
        "id": "view-in-github",
        "colab_type": "text"
      },
      "source": [
        "<a href=\"https://colab.research.google.com/github/Dua-Fatima123/Python/blob/main/File_Reading.ipynb\" target=\"_parent\"><img src=\"https://colab.research.google.com/assets/colab-badge.svg\" alt=\"Open In Colab\"/></a>"
      ]
    },
    {
      "cell_type": "markdown",
      "source": [
        "# Opening a txt file"
      ],
      "metadata": {
        "id": "vdrFZ7HlI56X"
      }
    },
    {
      "cell_type": "code",
      "source": [
        "file = open(\"/content/drive/MyDrive/File handling.txt\" , \"r\")\n",
        "print(file.read())"
      ],
      "metadata": {
        "colab": {
          "base_uri": "https://localhost:8080/"
        },
        "id": "DMe5KLyEJDO1",
        "outputId": "913d0510-e12a-47af-b97a-5467bcc6a9b4"
      },
      "execution_count": 3,
      "outputs": [
        {
          "output_type": "stream",
          "name": "stdout",
          "text": [
            "Hello I am Dua Fatima\n",
            "Today is Wedneday.\n",
            "Tomorrow is Thursday.\n",
            "I am Waiting for Weekend.....\n"
          ]
        }
      ]
    },
    {
      "cell_type": "markdown",
      "source": [
        "# Opening and reading txt file"
      ],
      "metadata": {
        "id": "omw-eLc7JAG3"
      }
    },
    {
      "cell_type": "code",
      "source": [
        "\n",
        "file = \"/content/drive/MyDrive/File handling.txt\"\n",
        "with open(file, 'r') as f:\n",
        "    lines = f.readlines()\n",
        "\n",
        "for x in lines:\n",
        "    print(x)"
      ],
      "metadata": {
        "colab": {
          "base_uri": "https://localhost:8080/"
        },
        "id": "M61FSftSIosX",
        "outputId": "fa6798ae-7f93-4d29-b3bc-37375fb6d7df"
      },
      "execution_count": 5,
      "outputs": [
        {
          "output_type": "stream",
          "name": "stdout",
          "text": [
            "Hello I am Dua Fatima\n",
            "\n",
            "Today is Wedneday.\n",
            "\n",
            "Tomorrow is Thursday.\n",
            "\n",
            "I am Waiting for Weekend.....\n"
          ]
        }
      ]
    },
    {
      "cell_type": "markdown",
      "source": [
        "# Creating a txt file"
      ],
      "metadata": {
        "id": "fmBJOZdbJ6pl"
      }
    },
    {
      "cell_type": "code",
      "source": [
        "file = \"/content/drive/MyDrive/new file handling.txt\"\n",
        "with open(file, 'w+') as f:\n",
        "    print(\"File Created!\")"
      ],
      "metadata": {
        "colab": {
          "base_uri": "https://localhost:8080/"
        },
        "id": "Y_i4gZf4JnN6",
        "outputId": "33f34369-1b7d-4503-be73-88404e1e449d"
      },
      "execution_count": 4,
      "outputs": [
        {
          "output_type": "stream",
          "name": "stdout",
          "text": [
            "File Created!\n"
          ]
        }
      ]
    },
    {
      "cell_type": "markdown",
      "source": [
        "# Creating and add data in txt file"
      ],
      "metadata": {
        "id": "875K2xMcKY6O"
      }
    },
    {
      "cell_type": "code",
      "source": [
        "file =  \"/content/drive/MyDrive/new file handling.txt\"\n",
        "with open(file, 'w+') as f:\n",
        "    f.write(\"Some Information!\")\n",
        "\n",
        "with open(file, 'r') as f:\n",
        "    contents = f.read()\n",
        "    print(contents)"
      ],
      "metadata": {
        "colab": {
          "base_uri": "https://localhost:8080/"
        },
        "id": "yiwcS9jBKGfX",
        "outputId": "da72b222-1a7f-4a89-93f5-82f19e455c26"
      },
      "execution_count": 17,
      "outputs": [
        {
          "output_type": "stream",
          "name": "stdout",
          "text": [
            "Some Information!\n"
          ]
        }
      ]
    },
    {
      "cell_type": "markdown",
      "source": [
        "# Creating txt file and adding data from other txt file"
      ],
      "metadata": {
        "id": "CYJpBG1OLzVr"
      }
    },
    {
      "cell_type": "code",
      "source": [
        "file =  \"/content/drive/MyDrive/File handling.txt\"\n",
        "\n",
        "with open(file, 'r') as f:\n",
        "    lines = f.readlines()\n",
        "\n",
        "with open(\"/content/drive/MyDrive/new file handling.txt\", 'w+') as f:\n",
        "    for line in lines:\n",
        "        f.write(line)"
      ],
      "metadata": {
        "id": "DoVbBlClBpPF"
      },
      "execution_count": 18,
      "outputs": []
    },
    {
      "cell_type": "code",
      "source": [],
      "metadata": {
        "id": "qRRXWyxkKY88"
      },
      "execution_count": null,
      "outputs": []
    }
  ]
}