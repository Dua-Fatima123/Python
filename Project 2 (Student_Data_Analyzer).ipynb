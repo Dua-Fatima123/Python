{
 "cells": [
  {
   "cell_type": "markdown",
   "id": "633999a9",
   "metadata": {},
   "source": [
    "# Import Libraries"
   ]
  },
  {
   "cell_type": "code",
   "execution_count": 13,
   "id": "b2c458d8",
   "metadata": {},
   "outputs": [],
   "source": [
    "import matplotlib.pyplot as plt\n",
    "import numpy as np\n",
    "import scipy.stats as stats\n",
    "import unittest"
   ]
  },
  {
   "cell_type": "markdown",
   "id": "79eeeb7d",
   "metadata": {},
   "source": [
    "# Class Definition"
   ]
  },
  {
   "cell_type": "code",
   "execution_count": 14,
   "id": "c26c22c1-ec3e-43ee-b27a-f7890bcc7e5a",
   "metadata": {},
   "outputs": [],
   "source": [
    "class Student:\n",
    "    def __init__(self, name):\n",
    "        self.name = name\n",
    "        self.grades = []\n",
    "\n",
    "    def add_grade(self, grade):\n",
    "        self.grades.append(grade)\n",
    "\n",
    "    def calculate_average(self):\n",
    "        return sum(self.grades) / len(self.grades)"
   ]
  },
  {
   "cell_type": "markdown",
   "id": "14387e3a",
   "metadata": {},
   "source": [
    "# Reading and Saving Student Data"
   ]
  },
  {
   "cell_type": "code",
   "execution_count": 26,
   "id": "476c0b1b",
   "metadata": {},
   "outputs": [],
   "source": [
    "def read_student_data(filename):\n",
    "    students = []\n",
    "    try:\n",
    "        with open(filename, 'r') as file:\n",
    "            for line in file:\n",
    "                data = line.strip().split(',')\n",
    "                name = data[0]\n",
    "                grades = list(map(float, data[1:]))\n",
    "                student = Student(name)\n",
    "                student.grades = grades\n",
    "                students.append(student)\n",
    "    except FileNotFoundError:\n",
    "        print(\"File not found.\")\n",
    "    return students"
   ]
  },
  {
   "cell_type": "code",
   "execution_count": 16,
   "id": "10b06b92-f130-43f8-afd2-de88dd15777e",
   "metadata": {},
   "outputs": [],
   "source": [
    "def save_student_data(students, filename):\n",
    "    with open(filename, 'w') as file:\n",
    "        for student in students:\n",
    "            file.write(f\"{student.name},{','.join(map(str, student.grades))}\\n\")\n"
   ]
  },
  {
   "cell_type": "markdown",
   "id": "4972d99e",
   "metadata": {},
   "source": [
    "# Calculating Statistics"
   ]
  },
  {
   "cell_type": "code",
   "execution_count": 17,
   "id": "7738ad41-3dc6-447a-be8d-19fdc2d361d7",
   "metadata": {},
   "outputs": [],
   "source": [
    "def calculate_statistics(students):\n",
    "    grades = [grade for student in students for grade in student.grades]\n",
    "    average = np.mean(grades)\n",
    "    minimum = np.min(grades)\n",
    "    maximum = np.max(grades)\n",
    "    std_dev = np.std(grades)\n",
    "    return average, minimum, maximum, std_dev"
   ]
  },
  {
   "cell_type": "markdown",
   "id": "a8c9322d",
   "metadata": {},
   "source": [
    "# Function to generate random student data"
   ]
  },
  {
   "cell_type": "code",
   "execution_count": 18,
   "id": "fe02772a-b440-4861-ad4c-ae2a048685ad",
   "metadata": {},
   "outputs": [],
   "source": [
    "import random"
   ]
  },
  {
   "cell_type": "code",
   "execution_count": 19,
   "id": "8083c481-0b16-4005-b893-ceb82f4fc3dc",
   "metadata": {},
   "outputs": [],
   "source": [
    "def generate_student_data(num_students):\n",
    "    students = []\n",
    "    for _ in range(num_students):\n",
    "        name = random.choice([\"Dua\", \"Fatima\", \"Hira\", \"Sana\", \"Halima\"])\n",
    "        grades = [random.randint(50, 100) for _ in range(3)]  # Generate 3 random grades between 50 and 100\n",
    "        student_data = f\"{name},{','.join(map(str, grades))}\"\n",
    "        students.append(student_data)\n",
    "    return students"
   ]
  },
  {
   "cell_type": "code",
   "execution_count": 20,
   "id": "0dbd50da-25c4-47bd-be9f-428d619dbdde",
   "metadata": {},
   "outputs": [],
   "source": [
    "def save_student_data(filename, data):\n",
    "    with open(filename, 'w') as file:\n",
    "        for student in data:\n",
    "            file.write(student + '\\n')"
   ]
  },
  {
   "cell_type": "markdown",
   "id": "00ca1a39",
   "metadata": {},
   "source": [
    "# Saving Generated Student Data"
   ]
  },
  {
   "cell_type": "code",
   "execution_count": 21,
   "id": "19bf2989-ce42-4450-97ca-9a1ec691428a",
   "metadata": {},
   "outputs": [],
   "source": [
    "if __name__ == \"__main__\":\n",
    "    num_students = 5  # Change this to the desired number of students\n",
    "    generated_data = generate_student_data(num_students)\n",
    "    save_student_data(\"student_data.txt\", generated_data)"
   ]
  },
  {
   "cell_type": "markdown",
   "id": "dce73a6c",
   "metadata": {},
   "source": [
    "# Main Code Execution"
   ]
  },
  {
   "cell_type": "code",
   "execution_count": 23,
   "id": "ee2769ec-1a50-46f3-b840-cace8bee0700",
   "metadata": {},
   "outputs": [
    {
     "name": "stdout",
     "output_type": "stream",
     "text": [
      "Class Average: 69.46666666666667\n",
      "Minimum Grade: 52.0\n",
      "Maximum Grade: 96.0\n",
      "Standard Deviation: 13.730096705979735\n"
     ]
    },
    {
     "data": {
      "image/png": "[encoded data removed]",
      "text/plain": [
       "<Figure size 640x480 with 1 Axes>"
      ]
     },
     "metadata": {},
     "output_type": "display_data"
    }
   ],
   "source": [
    "if __name__ == \"__main__\":\n",
    "    students = read_student_data(\"student_data.txt\")\n",
    "    average, minimum, maximum, std_dev = calculate_statistics(students)\n",
    "    print(f\"Class Average: {average}\")\n",
    "    print(f\"Minimum Grade: {minimum}\")\n",
    "    print(f\"Maximum Grade: {maximum}\")\n",
    "    print(f\"Standard Deviation: {std_dev}\")\n",
    "    \n",
    "    names = [student.name for student in students]\n",
    "    averages = [student.calculate_average() for student in students]\n",
    "    plt.bar(names, averages)\n",
    "    plt.xlabel('Students')\n",
    "    plt.ylabel('Average Grades')\n",
    "    plt.show()\n"
   ]
  },
  {
   "cell_type": "markdown",
   "id": "9c93d241",
   "metadata": {},
   "source": [
    "# Unit Testing"
   ]
  },
  {
   "cell_type": "code",
   "execution_count": 25,
   "id": "126c11f2-9263-4967-9a58-d0963f667fd5",
   "metadata": {},
   "outputs": [
    {
     "name": "stderr",
     "output_type": "stream",
     "text": [
      ".\n",
      "----------------------------------------------------------------------\n",
      "Ran 1 test in 0.002s\n",
      "\n",
      "OK\n"
     ]
    }
   ],
   "source": [
    "import unittest\n",
    "\n",
    "class TestStudentMethods(unittest.TestCase):\n",
    "    def test_average_calculation(self):\n",
    "        student = Student(\"Dua\")\n",
    "        student.grades = [85, 90, 92]\n",
    "        self.assertEqual(student.calculate_average(), 89)\n",
    "\n",
    "if __name__ == \"__main__\":\n",
    "    unittest.main(argv=['first-arg-is-ignored'], exit=False)\n"
   ]
  },
  {
   "cell_type": "code",
   "execution_count": null,
   "id": "3798412e-29e0-44b0-a37b-2bf9e472b6ca",
   "metadata": {},
   "outputs": [],
   "source": []
  },
  {
   "cell_type": "code",
   "execution_count": null,
   "id": "fb792028-27d5-45a9-9810-4e2eec455fa8",
   "metadata": {},
   "outputs": [],
   "source": []
  }
 ],
 "metadata": {
  "kernelspec": {
   "display_name": "Python 3 (ipykernel)",
   "language": "python",
   "name": "python3"
  },
  "language_info": {
   "codemirror_mode": {
    "name": "ipython",
    "version": 3
   },
   "file_extension": ".py",
   "mimetype": "text/x-python",
   "name": "python",
   "nbconvert_exporter": "python",
   "pygments_lexer": "ipython3",
   "version": "3.11.5"
  }
 },
 "nbformat": 4,
 "nbformat_minor": 5
}
