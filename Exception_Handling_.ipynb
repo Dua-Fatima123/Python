{
  "nbformat": 4,
  "nbformat_minor": 0,
  "metadata": {
    "colab": {
      "provenance": [],
      "authorship_tag": "ABX9TyNjVihDyuRNoR4B0VOqBut4",
      "include_colab_link": true
    },
    "kernelspec": {
      "name": "python3",
      "display_name": "Python 3"
    },
    "language_info": {
      "name": "python"
    }
  },
  "cells": [
    {
      "cell_type": "markdown",
      "metadata": {
        "id": "view-in-github",
        "colab_type": "text"
      },
      "source": [
        "<a href=\"https://colab.research.google.com/github/Dua-Fatima123/Python/blob/main/Exception_Handling_.ipynb\" target=\"_parent\"><img src=\"https://colab.research.google.com/assets/colab-badge.svg\" alt=\"Open In Colab\"/></a>"
      ]
    },
    {
      "cell_type": "markdown",
      "source": [
        "# Exception Occurs"
      ],
      "metadata": {
        "id": "Z2qBllgqkKKN"
      }
    },
    {
      "cell_type": "code",
      "source": [
        "a = int(input(\"Enter First Number: \"))\n",
        "b = int(input(\"Enter Divider Number: \"))\n",
        "\n",
        "c = a/b\n",
        "\n",
        "print(\"Answer: \" + str(c))"
      ],
      "metadata": {
        "colab": {
          "base_uri": "https://localhost:8080/"
        },
        "id": "2SPsDBzLkFnG",
        "outputId": "d93e104b-9069-4bb8-e97b-5526c807347d"
      },
      "execution_count": 5,
      "outputs": [
        {
          "output_type": "stream",
          "name": "stdout",
          "text": [
            "Enter First Number: 12\n",
            "Enter Divider Number: 45\n",
            "Answer: 0.26666666666666666\n"
          ]
        }
      ]
    },
    {
      "cell_type": "code",
      "source": [
        "num1 = float(input(\"Enter the first number: \"))\n",
        "num2 = float(input(\"Enter the second number: \"))\n",
        "\n",
        "if num2 == 0:\n",
        "    print(\"Error: Division by zero is not allowed.\")\n",
        "else:\n",
        "    result = num1 / num2\n",
        "    print(\"Result: \" + str(result))"
      ],
      "metadata": {
        "colab": {
          "base_uri": "https://localhost:8080/"
        },
        "id": "V507kFmkkZHT",
        "outputId": "f12e0846-fad3-48ef-8f8b-80cf316d3328"
      },
      "execution_count": 6,
      "outputs": [
        {
          "output_type": "stream",
          "name": "stdout",
          "text": [
            "Enter the first number: 12\n",
            "Enter the second number: 23\n",
            "Result: 0.5217391304347826\n"
          ]
        }
      ]
    },
    {
      "cell_type": "markdown",
      "source": [
        "# Handling the Exception"
      ],
      "metadata": {
        "id": "pCyzWEXqkjWz"
      }
    },
    {
      "cell_type": "code",
      "source": [
        "try:\n",
        "    a = int(input(\"Enter First Number: \"))\n",
        "    b = int(input(\"Enter Divider Number: \"))\n",
        "    c = a / b\n",
        "\n",
        "    print(\"Answer: \" + str(c))\n",
        "\n",
        "except:\n",
        "    print(\"Error!\")"
      ],
      "metadata": {
        "colab": {
          "base_uri": "https://localhost:8080/"
        },
        "id": "_-9fZ0RriGl7",
        "outputId": "722e893d-b955-44b0-b031-374715ac8462"
      },
      "execution_count": 7,
      "outputs": [
        {
          "output_type": "stream",
          "name": "stdout",
          "text": [
            "Enter First Number: 12\n",
            "Enter Divider Number: 12\n",
            "Answer: 1.0\n"
          ]
        }
      ]
    },
    {
      "cell_type": "code",
      "source": [
        "try:\n",
        "    dividend = float(input(\"Enter the dividend: \"))\n",
        "    divisor = float(input(\"Enter the divisor: \"))\n",
        "    result = dividend / divisor\n",
        "\n",
        "    print(\"Result: \" + str(result))\n",
        "\n",
        "except Exception:\n",
        "    print(\"Error!\")"
      ],
      "metadata": {
        "colab": {
          "base_uri": "https://localhost:8080/"
        },
        "id": "8GoDYwuFjucF",
        "outputId": "21795e25-be52-4fed-cda1-95ec7135c1b7"
      },
      "execution_count": 8,
      "outputs": [
        {
          "output_type": "stream",
          "name": "stdout",
          "text": [
            "Enter the dividend: 6\n",
            "Enter the divisor: 12\n",
            "Result: 0.5\n"
          ]
        }
      ]
    },
    {
      "cell_type": "code",
      "source": [],
      "metadata": {
        "id": "dmMRSs7jlJud"
      },
      "execution_count": null,
      "outputs": []
    }
  ]
}