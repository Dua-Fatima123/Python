{
 "cells": [
  {
   "cell_type": "markdown",
   "id": "8f6d6a4b",
   "metadata": {},
   "source": [
    "# Conditional Tests"
   ]
  },
  {
   "cell_type": "code",
   "execution_count": 1,
   "id": "806eaa57",
   "metadata": {},
   "outputs": [
    {
     "name": "stdout",
     "output_type": "stream",
     "text": [
      "True\n",
      "23\n"
     ]
    }
   ],
   "source": [
    "a = 12\n",
    "\n",
    "# ==\n",
    "if a == 12:\n",
    "    print(bool(a))\n",
    "else:\n",
    "    print(a)\n",
    "    \n",
    "#extra\n",
    "a = 23\n",
    "\n",
    "# ==\n",
    "if a == 12:\n",
    "    print(bool(a))\n",
    "else:\n",
    "    print(a)"
   ]
  },
  {
   "cell_type": "markdown",
   "id": "81081554",
   "metadata": {},
   "source": [
    "# !="
   ]
  },
  {
   "cell_type": "code",
   "execution_count": 2,
   "id": "362ca34f",
   "metadata": {},
   "outputs": [
    {
     "name": "stdout",
     "output_type": "stream",
     "text": [
      "78\n",
      "True\n"
     ]
    }
   ],
   "source": [
    "# !=\n",
    "a=78\n",
    "if a != 78:\n",
    "    print(bool(a))\n",
    "else:\n",
    "    print(a)\n",
    "    \n",
    "#extra\n",
    "a=17\n",
    "if a != 78:\n",
    "    print(bool(a))\n",
    "else:\n",
    "    print(a)"
   ]
  },
  {
   "cell_type": "markdown",
   "id": "8ce6bfb6",
   "metadata": {},
   "source": [
    "# >"
   ]
  },
  {
   "cell_type": "code",
   "execution_count": 3,
   "id": "c416811c",
   "metadata": {},
   "outputs": [
    {
     "name": "stdout",
     "output_type": "stream",
     "text": [
      "45\n",
      "True\n"
     ]
    }
   ],
   "source": [
    "a=45\n",
    "if a > 45:\n",
    "    print(bool(a))\n",
    "else:\n",
    "    print(a)\n",
    "#extra\n",
    "a=55\n",
    "if a > 45:\n",
    "    print(bool(a))\n",
    "else:\n",
    "    print(a)"
   ]
  },
  {
   "cell_type": "markdown",
   "id": "a15a5e35",
   "metadata": {},
   "source": [
    "# >="
   ]
  },
  {
   "cell_type": "code",
   "execution_count": 4,
   "id": "184e1369",
   "metadata": {},
   "outputs": [
    {
     "name": "stdout",
     "output_type": "stream",
     "text": [
      "28\n",
      "True\n"
     ]
    }
   ],
   "source": [
    "a=28\n",
    "if a >= 29:\n",
    "    print(bool(a))\n",
    "else:\n",
    "    print(a)\n",
    "#extra\n",
    "a=30\n",
    "if a >= 29:\n",
    "    print(bool(a))\n",
    "else:\n",
    "    print(a)"
   ]
  },
  {
   "cell_type": "markdown",
   "id": "f667597a",
   "metadata": {},
   "source": [
    "# <"
   ]
  },
  {
   "cell_type": "code",
   "execution_count": 5,
   "id": "4c3203b9",
   "metadata": {},
   "outputs": [
    {
     "name": "stdout",
     "output_type": "stream",
     "text": [
      "True\n",
      "35\n"
     ]
    }
   ],
   "source": [
    "a=15\n",
    "if a < 29:\n",
    "    print(bool(a))\n",
    "else:\n",
    "    print(a)\n",
    "\n",
    "#extra\n",
    "a=35\n",
    "if a < 29:\n",
    "    print(bool(a))\n",
    "else:\n",
    "    print(a)"
   ]
  },
  {
   "cell_type": "markdown",
   "id": "9b50eeb9",
   "metadata": {},
   "source": [
    "# <="
   ]
  },
  {
   "cell_type": "code",
   "execution_count": 6,
   "id": "14d9eb57",
   "metadata": {},
   "outputs": [
    {
     "name": "stdout",
     "output_type": "stream",
     "text": [
      "True\n",
      "55\n"
     ]
    }
   ],
   "source": [
    "a=35\n",
    "if a <= 35:\n",
    "    print(bool(a))\n",
    "else:\n",
    "    print(a)\n",
    "    \n",
    "#extra# <=\n",
    "a=55\n",
    "if a <= 29:\n",
    "    print(bool(a))\n",
    "else:\n",
    "    print(a)"
   ]
  },
  {
   "cell_type": "code",
   "execution_count": 7,
   "id": "14283c35",
   "metadata": {},
   "outputs": [
    {
     "name": "stdout",
     "output_type": "stream",
     "text": [
      "True\n",
      "['mango', 'banana', 'apple', 'stawbery', 'grapes']\n"
     ]
    }
   ],
   "source": [
    "fruits = [\"mango\",\"banana\",\"apple\",\"stawbery\",\"grapes\"]\n",
    "if \"apple\" in fruits:\n",
    "    print(bool(\"fruits\"))\n",
    " #extra   \n",
    "if \"carrot\" in fruits:\n",
    "    print(bool(\"fruits\"))\n",
    "else:\n",
    "    print(fruits)"
   ]
  },
  {
   "cell_type": "markdown",
   "id": "fe92bc90",
   "metadata": {},
   "source": [
    "# Assigning and modifying Boolean"
   ]
  },
  {
   "cell_type": "code",
   "execution_count": 8,
   "id": "68e843c7",
   "metadata": {},
   "outputs": [
    {
     "name": "stdout",
     "output_type": "stream",
     "text": [
      "True\n",
      "True\n",
      "False\n"
     ]
    }
   ],
   "source": [
    "Bool = False\n",
    "name = \"fatima\"\n",
    "\n",
    "if name != \"Dua\":\n",
    "    Bool = True\n",
    "\n",
    "print(Bool)\n",
    "\n",
    "#extra\n",
    "num=True\n",
    "value=12\n",
    "if value ==12:\n",
    "    num=True\n",
    "print(num)\n",
    "\n",
    "#extra\n",
    "num=True\n",
    "value=15\n",
    "if value !=12:\n",
    "    num=False\n",
    "print(num)"
   ]
  },
  {
   "cell_type": "code",
   "execution_count": null,
   "id": "6dcabb5d",
   "metadata": {},
   "outputs": [],
   "source": []
  }
 ],
 "metadata": {
  "kernelspec": {
   "display_name": "Python 3 (ipykernel)",
   "language": "python",
   "name": "python3"
  },
  "language_info": {
   "codemirror_mode": {
    "name": "ipython",
    "version": 3
   },
   "file_extension": ".py",
   "mimetype": "text/x-python",
   "name": "python",
   "nbconvert_exporter": "python",
   "pygments_lexer": "ipython3",
   "version": "3.10.9"
  }
 },
 "nbformat": 4,
 "nbformat_minor": 5
}
