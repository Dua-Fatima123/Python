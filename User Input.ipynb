{
 "cells": [
  {
   "cell_type": "markdown",
   "id": "d8d5aaf7",
   "metadata": {},
   "source": [
    "# Getting an Input\n"
   ]
  },
  {
   "cell_type": "code",
   "execution_count": 2,
   "id": "639da4cf",
   "metadata": {},
   "outputs": [
    {
     "name": "stdout",
     "output_type": "stream",
     "text": [
      "Enter a game name: hockey\n",
      "hockey\n"
     ]
    }
   ],
   "source": [
    "game = input(\"Enter a game name: \")\n",
    "print(game)"
   ]
  },
  {
   "cell_type": "markdown",
   "id": "27e6a319",
   "metadata": {},
   "source": [
    "# Collecting Data"
   ]
  },
  {
   "cell_type": "code",
   "execution_count": 3,
   "id": "26723034",
   "metadata": {},
   "outputs": [
    {
     "name": "stdout",
     "output_type": "stream",
     "text": [
      "Enter Your Name: Syeda Dua Fatima\n",
      "Enter Your Age: 21\n",
      "Syeda Dua Fatima is 21 Years Old!\n",
      "Enter Your Department Name: AI\n",
      "Enter Your favourite subject: MACHINE LEARNING\n",
      "AI and your favourite suject is MACHINE LEARNING\n"
     ]
    }
   ],
   "source": [
    "name = input(\"Enter Your Name: \")\n",
    "age = input(\"Enter Your Age: \")\n",
    "print(name + \" is \" + age + \" Years Old!\")\n",
    "\n",
    "# extra\n",
    "dep_name = input(\"Enter Your Department Name: \")\n",
    "subject = input(\"Enter Your favourite subject: \")\n",
    "\n",
    "print(dep_name + \" and your favourite suject is \" + subject)"
   ]
  },
  {
   "cell_type": "code",
   "execution_count": null,
   "id": "aa273ac7",
   "metadata": {},
   "outputs": [],
   "source": []
  }
 ],
 "metadata": {
  "kernelspec": {
   "display_name": "Python 3 (ipykernel)",
   "language": "python",
   "name": "python3"
  },
  "language_info": {
   "codemirror_mode": {
    "name": "ipython",
    "version": 3
   },
   "file_extension": ".py",
   "mimetype": "text/x-python",
   "name": "python",
   "nbconvert_exporter": "python",
   "pygments_lexer": "ipython3",
   "version": "3.10.9"
  }
 },
 "nbformat": 4,
 "nbformat_minor": 5
}
