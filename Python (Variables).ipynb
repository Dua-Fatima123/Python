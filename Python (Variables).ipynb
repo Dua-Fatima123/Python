{
 "cells": [
  {
   "cell_type": "markdown",
   "id": "099ba773",
   "metadata": {},
   "source": [
    "# Print "
   ]
  },
  {
   "cell_type": "code",
   "execution_count": 2,
   "id": "b9df1c70",
   "metadata": {},
   "outputs": [
    {
     "name": "stdout",
     "output_type": "stream",
     "text": [
      "My name is Syeda Dua Fatima\n"
     ]
    }
   ],
   "source": [
    "print(\"My name is Syeda Dua Fatima\")"
   ]
  },
  {
   "cell_type": "code",
   "execution_count": 3,
   "id": "1af892d4",
   "metadata": {},
   "outputs": [
    {
     "name": "stdout",
     "output_type": "stream",
     "text": [
      "Dua Fatima\n"
     ]
    }
   ],
   "source": [
    "name=\"Dua Fatima\"\n",
    "print(name)"
   ]
  },
  {
   "cell_type": "markdown",
   "id": "447b33ec",
   "metadata": {},
   "source": [
    "# Concatenate Alphanumerics"
   ]
  },
  {
   "cell_type": "code",
   "execution_count": 5,
   "id": "07a0b2a6",
   "metadata": {},
   "outputs": [
    {
     "name": "stdout",
     "output_type": "stream",
     "text": [
      "Dua Fatima 25\n"
     ]
    }
   ],
   "source": [
    "name=\"Dua Fatima\"\n",
    "roll_num=25\n",
    "print(name+\" \"+str(roll_num))"
   ]
  },
  {
   "cell_type": "markdown",
   "id": "bc6f59d6",
   "metadata": {},
   "source": [
    "# prints message to n iterations"
   ]
  },
  {
   "cell_type": "code",
   "execution_count": 9,
   "id": "0eef2797",
   "metadata": {},
   "outputs": [
    {
     "name": "stdout",
     "output_type": "stream",
     "text": [
      "Dua\n",
      "Dua\n",
      "Dua\n",
      "Dua\n",
      "Dua\n",
      "Dua\n",
      "Dua\n",
      "Dua\n",
      "Dua\n",
      "Dua\n",
      "Dua\n",
      "Dua\n",
      "Dua\n",
      "Dua\n",
      "Dua\n",
      "Dua\n",
      "Dua\n",
      "Dua\n",
      "Dua\n",
      "Dua\n"
     ]
    }
   ],
   "source": [
    "name=\"Dua\"\n",
    "n = 20\n",
    "for x in range(n):\n",
    "    print(name)"
   ]
  },
  {
   "cell_type": "markdown",
   "id": "6a2711f2",
   "metadata": {},
   "source": [
    "# concatenation"
   ]
  },
  {
   "cell_type": "code",
   "execution_count": 7,
   "id": "a3a7a086",
   "metadata": {},
   "outputs": [
    {
     "name": "stdout",
     "output_type": "stream",
     "text": [
      "dua fatima\n"
     ]
    }
   ],
   "source": [
    "first_name = \"dua\"\n",
    "last_name = \"fatima\"\n",
    "print(first_name + \" \" + last_name)"
   ]
  },
  {
   "cell_type": "code",
   "execution_count": 8,
   "id": "e8ddd8e3",
   "metadata": {},
   "outputs": [
    {
     "name": "stdout",
     "output_type": "stream",
     "text": [
      "Dua\n",
      "Syeda Dua Fatima\n",
      "Enter the score 1: 45\n",
      "Enter the score 2: 33\n",
      "Total score is 78 \n",
      "Total score is 78 \n",
      "Enter the score 1: 32\n",
      "Enter the score 2: 22\n",
      "score1(32 ) + score2[22 ] = 54 \n"
     ]
    }
   ],
   "source": [
    "first_name = \"Dua\"\n",
    "print(first_name)\n",
    "full_name = \"Syeda Dua Fatima\"\n",
    "print(full_name)\n",
    "\n",
    "score1 = int(input(\"Enter the score 1: \"))\n",
    "score2 = int(input(\"Enter the score 2: \"))\n",
    "totalString = score1 + score2\n",
    "messageString = \"Total score is %s \"\n",
    "\n",
    "print(messageString % totalString)\n",
    "\n",
    "totalInt = int(score1) + int(score2)\n",
    "messageString = \"Total score is %s \"\n",
    "print(messageString % totalInt)\n",
    "\n",
    "score1 = int(input(\"Enter the score 1: \"))\n",
    "score2 = int(input(\"Enter the score 2: \"))\n",
    "total = score1 + score2\n",
    "messageString = \"score1(%s ) + score2[%s ] = %s \"\n",
    "print(messageString % (score1, score2, total))"
   ]
  },
  {
   "cell_type": "code",
   "execution_count": null,
   "id": "ce93f9e2",
   "metadata": {},
   "outputs": [],
   "source": []
  }
 ],
 "metadata": {
  "kernelspec": {
   "display_name": "Python 3 (ipykernel)",
   "language": "python",
   "name": "python3"
  },
  "language_info": {
   "codemirror_mode": {
    "name": "ipython",
    "version": 3
   },
   "file_extension": ".py",
   "mimetype": "text/x-python",
   "name": "python",
   "nbconvert_exporter": "python",
   "pygments_lexer": "ipython3",
   "version": "3.10.9"
  }
 },
 "nbformat": 4,
 "nbformat_minor": 5
}
