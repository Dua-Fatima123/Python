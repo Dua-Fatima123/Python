{
 "cells": [
  {
   "cell_type": "markdown",
   "id": "8f6b38ba",
   "metadata": {},
   "source": [
    "# Dictionaries"
   ]
  },
  {
   "cell_type": "markdown",
   "id": "232d0880",
   "metadata": {},
   "source": [
    "# Creating a Dictionary"
   ]
  },
  {
   "cell_type": "code",
   "execution_count": 1,
   "id": "b647f531",
   "metadata": {},
   "outputs": [
    {
     "name": "stdout",
     "output_type": "stream",
     "text": [
      "{'Name': 'Dua', 'CGPA': 3.78}\n",
      "{'fruit': 'mango', 'colur': 'yellow', 'size': 2}\n"
     ]
    }
   ],
   "source": [
    "dict1 = {\"Name\" : \"Dua\", \"CGPA\" : 3.78}\n",
    "print(dict1)\n",
    "\n",
    "#extra\n",
    "dict2 = {\"fruit\" : \"mango\", \"colur\" : \"yellow\", \"size\": 2}\n",
    "print(dict2)"
   ]
  },
  {
   "cell_type": "markdown",
   "id": "0407344d",
   "metadata": {},
   "source": [
    "# Accessing an Attribute"
   ]
  },
  {
   "cell_type": "code",
   "execution_count": 2,
   "id": "c01df350",
   "metadata": {},
   "outputs": [
    {
     "name": "stdout",
     "output_type": "stream",
     "text": [
      "The marks of stuent is fifty\n"
     ]
    }
   ],
   "source": [
    "student = {\"name\" : \"syeda\", \"marks\" : \"fifty\" }\n",
    "\n",
    "print(\"The marks of stuent is \" + student['marks'])"
   ]
  },
  {
   "cell_type": "markdown",
   "id": "1f6706b1",
   "metadata": {},
   "source": [
    "# Looping Through Numbers"
   ]
  },
  {
   "cell_type": "code",
   "execution_count": 2,
   "id": "dbe8e924",
   "metadata": {},
   "outputs": [
    {
     "name": "stdout",
     "output_type": "stream",
     "text": [
      "dua loves a number\n",
      "fatima loves a number\n"
     ]
    }
   ],
   "source": [
    "nums = {'dua': 17, 'fatima': 4}\n",
    "\n",
    "for name in nums.keys():\n",
    "    print(name + ' loves a number')"
   ]
  },
  {
   "cell_type": "markdown",
   "id": "8715eb88",
   "metadata": {},
   "source": [
    "# Looping through the Values"
   ]
  },
  {
   "cell_type": "code",
   "execution_count": 3,
   "id": "a338e539",
   "metadata": {},
   "outputs": [
    {
     "name": "stdout",
     "output_type": "stream",
     "text": [
      "14 is odd number\n",
      "7 is odd number\n"
     ]
    }
   ],
   "source": [
    "num = {'fatima': 14, 'hira': 7}\n",
    "\n",
    "for number in num.values():\n",
    "    print(str(number) + ' is odd number')"
   ]
  },
  {
   "cell_type": "markdown",
   "id": "4a2a35fa",
   "metadata": {},
   "source": [
    "# Looping Through Numbers"
   ]
  },
  {
   "cell_type": "code",
   "execution_count": 4,
   "id": "372fe974",
   "metadata": {},
   "outputs": [
    {
     "name": "stdout",
     "output_type": "stream",
     "text": [
      "dua loves grapes\n",
      "arooj loves stawbery\n"
     ]
    }
   ],
   "source": [
    "fruits = {'dua': \"grapes\", 'arooj': \"stawbery\"}\n",
    "\n",
    "for name in fruits.keys():\n",
    "    print(name + ' loves '+ str(fruits[name]))"
   ]
  },
  {
   "cell_type": "code",
   "execution_count": 5,
   "id": "a664d66e",
   "metadata": {},
   "outputs": [
    {
     "name": "stdout",
     "output_type": "stream",
     "text": [
      "{'fruit1': 'Mango', 'fav dish': 'Biryani'}\n"
     ]
    }
   ],
   "source": [
    "dict1 = {}\n",
    "\n",
    "dict1['fruit1'] = 'Apple'\n",
    "dict1['fav dish'] = 'Biryani'\n",
    "\n",
    "dict1['fruit1'] = 'Mango'\n",
    "\n",
    "print(dict1)"
   ]
  },
  {
   "cell_type": "code",
   "execution_count": 6,
   "id": "52280d82",
   "metadata": {},
   "outputs": [
    {
     "name": "stdout",
     "output_type": "stream",
     "text": [
      "{'department ': 'AI', 'Section': '7th 1M'}\n",
      "dict_keys(['department ', 'Section'])\n",
      "dict_values(['AI', '7th 1M'])\n",
      "dict_items([('department ', 'AI'), ('Section', '7th 1M')])\n"
     ]
    }
   ],
   "source": [
    "dict2 = {}\n",
    "\n",
    "dict2['department '] = 'AI'\n",
    "dict2['Section'] = '7th 1M'\n",
    "\n",
    "\n",
    "print(dict2)\n",
    "\n",
    "print(dict2.keys())\n",
    "print(dict2.values())\n",
    "print(dict2.items())"
   ]
  },
  {
   "cell_type": "markdown",
   "id": "6e0993f9",
   "metadata": {},
   "source": [
    "# Start with an empty list"
   ]
  },
  {
   "cell_type": "code",
   "execution_count": 8,
   "id": "94c54465",
   "metadata": {},
   "outputs": [
    {
     "name": "stdout",
     "output_type": "stream",
     "text": [
      "last: Zakki\n",
      "\n",
      "\n",
      "first: Tehseen\n",
      "\n",
      "\n",
      "username: TZakki\n",
      "\n",
      "\n",
      "last: Fatima\n",
      "\n",
      "\n",
      "first: Dua\n",
      "\n",
      "\n",
      "username: DFatima\n",
      "\n",
      "\n"
     ]
    }
   ],
   "source": [
    "users = []\n",
    "new_user = {\n",
    "    'last': 'Zakki',\n",
    "    'first': 'Tehseen',\n",
    "    'username': 'TZakki',\n",
    " }\n",
    "\n",
    "users.append(new_user)\n",
    "\n",
    "new_user = {\n",
    "    'last': 'Fatima',\n",
    "    'first': 'Dua',\n",
    "    'username': 'DFatima',\n",
    " }\n",
    "users.append(new_user)\n",
    "\n",
    "for user_dict in users:\n",
    "    for k, v in user_dict.items():\n",
    "        print(k + \": \" + v)\n",
    "        print(\"\\n\")"
   ]
  },
  {
   "cell_type": "markdown",
   "id": "ecb3460a",
   "metadata": {},
   "source": [
    "# Show all responses for each person"
   ]
  },
  {
   "cell_type": "code",
   "execution_count": 10,
   "id": "f842844b",
   "metadata": {},
   "outputs": [
    {
     "name": "stdout",
     "output_type": "stream",
     "text": [
      "dua: \n",
      "* python\n",
      "* java\n",
      "sarah: \n",
      "* c\n",
      "hira: \n",
      "* ruby\n",
      "* go\n",
      "sana: \n",
      "* python\n",
      "* haskell\n"
     ]
    }
   ],
   "source": [
    "fav_languages = {'dua': ['python', 'java'], 'sarah': ['c'], 'hira': ['ruby', 'go'], 'sana': ['python', 'haskell']}\n",
    "for name, langs in fav_languages.items():\n",
    "    print(name + \": \")\n",
    "    for lang in langs:\n",
    "        print(\"* \" + lang)"
   ]
  },
  {
   "cell_type": "code",
   "execution_count": 13,
   "id": "3f9042c2",
   "metadata": {},
   "outputs": [
    {
     "name": "stdout",
     "output_type": "stream",
     "text": [
      "Number of aliens created:\n",
      "100\n",
      "[{'color': 'green', 'points': 5, 'x': 0, 'y': 0}, {'color': 'green', 'points': 5, 'x': 20, 'y': 140}, {'color': 'green', 'points': 5, 'x': 40, 'y': 280}, {'color': 'green', 'points': 5, 'x': 60, 'y': 420}, {'color': 'green', 'points': 5, 'x': 80, 'y': 560}, {'color': 'green', 'points': 5, 'x': 100, 'y': 700}, {'color': 'green', 'points': 5, 'x': 120, 'y': 840}, {'color': 'green', 'points': 5, 'x': 140, 'y': 980}, {'color': 'green', 'points': 5, 'x': 160, 'y': 1120}, {'color': 'green', 'points': 5, 'x': 180, 'y': 1260}, {'color': 'green', 'points': 5, 'x': 200, 'y': 1400}, {'color': 'green', 'points': 5, 'x': 220, 'y': 1540}, {'color': 'green', 'points': 5, 'x': 240, 'y': 1680}, {'color': 'green', 'points': 5, 'x': 260, 'y': 1820}, {'color': 'green', 'points': 5, 'x': 280, 'y': 1960}, {'color': 'green', 'points': 5, 'x': 300, 'y': 2100}, {'color': 'green', 'points': 5, 'x': 320, 'y': 2240}, {'color': 'green', 'points': 5, 'x': 340, 'y': 2380}, {'color': 'green', 'points': 5, 'x': 360, 'y': 2520}, {'color': 'green', 'points': 5, 'x': 380, 'y': 2660}, {'color': 'green', 'points': 5, 'x': 400, 'y': 2800}, {'color': 'green', 'points': 5, 'x': 420, 'y': 2940}, {'color': 'green', 'points': 5, 'x': 440, 'y': 3080}, {'color': 'green', 'points': 5, 'x': 460, 'y': 3220}, {'color': 'green', 'points': 5, 'x': 480, 'y': 3360}, {'color': 'green', 'points': 5, 'x': 500, 'y': 3500}, {'color': 'green', 'points': 5, 'x': 520, 'y': 3640}, {'color': 'green', 'points': 5, 'x': 540, 'y': 3780}, {'color': 'green', 'points': 5, 'x': 560, 'y': 3920}, {'color': 'green', 'points': 5, 'x': 580, 'y': 4060}, {'color': 'green', 'points': 5, 'x': 600, 'y': 4200}, {'color': 'green', 'points': 5, 'x': 620, 'y': 4340}, {'color': 'green', 'points': 5, 'x': 640, 'y': 4480}, {'color': 'green', 'points': 5, 'x': 660, 'y': 4620}, {'color': 'green', 'points': 5, 'x': 680, 'y': 4760}, {'color': 'green', 'points': 5, 'x': 700, 'y': 4900}, {'color': 'green', 'points': 5, 'x': 720, 'y': 5040}, {'color': 'green', 'points': 5, 'x': 740, 'y': 5180}, {'color': 'green', 'points': 5, 'x': 760, 'y': 5320}, {'color': 'green', 'points': 5, 'x': 780, 'y': 5460}, {'color': 'green', 'points': 5, 'x': 800, 'y': 5600}, {'color': 'green', 'points': 5, 'x': 820, 'y': 5740}, {'color': 'green', 'points': 5, 'x': 840, 'y': 5880}, {'color': 'green', 'points': 5, 'x': 860, 'y': 6020}, {'color': 'green', 'points': 5, 'x': 880, 'y': 6160}, {'color': 'green', 'points': 5, 'x': 900, 'y': 6300}, {'color': 'green', 'points': 5, 'x': 920, 'y': 6440}, {'color': 'green', 'points': 5, 'x': 940, 'y': 6580}, {'color': 'green', 'points': 5, 'x': 960, 'y': 6720}, {'color': 'green', 'points': 5, 'x': 980, 'y': 6860}, {'color': 'green', 'points': 5, 'x': 1000, 'y': 7000}, {'color': 'green', 'points': 5, 'x': 1020, 'y': 7140}, {'color': 'green', 'points': 5, 'x': 1040, 'y': 7280}, {'color': 'green', 'points': 5, 'x': 1060, 'y': 7420}, {'color': 'green', 'points': 5, 'x': 1080, 'y': 7560}, {'color': 'green', 'points': 5, 'x': 1100, 'y': 7700}, {'color': 'green', 'points': 5, 'x': 1120, 'y': 7840}, {'color': 'green', 'points': 5, 'x': 1140, 'y': 7980}, {'color': 'green', 'points': 5, 'x': 1160, 'y': 8120}, {'color': 'green', 'points': 5, 'x': 1180, 'y': 8260}, {'color': 'green', 'points': 5, 'x': 1200, 'y': 8400}, {'color': 'green', 'points': 5, 'x': 1220, 'y': 8540}, {'color': 'green', 'points': 5, 'x': 1240, 'y': 8680}, {'color': 'green', 'points': 5, 'x': 1260, 'y': 8820}, {'color': 'green', 'points': 5, 'x': 1280, 'y': 8960}, {'color': 'green', 'points': 5, 'x': 1300, 'y': 9100}, {'color': 'green', 'points': 5, 'x': 1320, 'y': 9240}, {'color': 'green', 'points': 5, 'x': 1340, 'y': 9380}, {'color': 'green', 'points': 5, 'x': 1360, 'y': 9520}, {'color': 'green', 'points': 5, 'x': 1380, 'y': 9660}, {'color': 'green', 'points': 5, 'x': 1400, 'y': 9800}, {'color': 'green', 'points': 5, 'x': 1420, 'y': 9940}, {'color': 'green', 'points': 5, 'x': 1440, 'y': 10080}, {'color': 'green', 'points': 5, 'x': 1460, 'y': 10220}, {'color': 'green', 'points': 5, 'x': 1480, 'y': 10360}, {'color': 'green', 'points': 5, 'x': 1500, 'y': 10500}, {'color': 'green', 'points': 5, 'x': 1520, 'y': 10640}, {'color': 'green', 'points': 5, 'x': 1540, 'y': 10780}, {'color': 'green', 'points': 5, 'x': 1560, 'y': 10920}, {'color': 'green', 'points': 5, 'x': 1580, 'y': 11060}, {'color': 'green', 'points': 5, 'x': 1600, 'y': 11200}, {'color': 'green', 'points': 5, 'x': 1620, 'y': 11340}, {'color': 'green', 'points': 5, 'x': 1640, 'y': 11480}, {'color': 'green', 'points': 5, 'x': 1660, 'y': 11620}, {'color': 'green', 'points': 5, 'x': 1680, 'y': 11760}, {'color': 'green', 'points': 5, 'x': 1700, 'y': 11900}, {'color': 'green', 'points': 5, 'x': 1720, 'y': 12040}, {'color': 'green', 'points': 5, 'x': 1740, 'y': 12180}, {'color': 'green', 'points': 5, 'x': 1760, 'y': 12320}, {'color': 'green', 'points': 5, 'x': 1780, 'y': 12460}, {'color': 'green', 'points': 5, 'x': 1800, 'y': 12600}, {'color': 'green', 'points': 5, 'x': 1820, 'y': 12740}, {'color': 'green', 'points': 5, 'x': 1840, 'y': 12880}, {'color': 'green', 'points': 5, 'x': 1860, 'y': 13020}, {'color': 'green', 'points': 5, 'x': 1880, 'y': 13160}, {'color': 'green', 'points': 5, 'x': 1900, 'y': 13300}, {'color': 'green', 'points': 5, 'x': 1920, 'y': 13440}, {'color': 'green', 'points': 5, 'x': 1940, 'y': 13580}, {'color': 'green', 'points': 5, 'x': 1960, 'y': 13720}, {'color': 'green', 'points': 5, 'x': 1980, 'y': 13860}]\n"
     ]
    }
   ],
   "source": [
    "aliens = []\n",
    "# Make a million green aliens, worth 5 points\n",
    "# each. Have them all start in one row.\n",
    "\n",
    "\n",
    "for alien_num in range(100):\n",
    "    new_alien = {}\n",
    "    new_alien['color'] = 'green'\n",
    "    new_alien['points'] = 5\n",
    "    new_alien['x'] = 20 * alien_num\n",
    "    new_alien['y'] = 7 * int(new_alien['x'])\n",
    "    aliens.append(new_alien)\n",
    "\n",
    "\n",
    "# Prove the list contains a million aliens.\n",
    "num_aliens = len(aliens)\n",
    "print(\"Number of aliens created:\")\n",
    "print(num_aliens)\n",
    "print(aliens)"
   ]
  },
  {
   "cell_type": "code",
   "execution_count": null,
   "id": "6b40fcb2",
   "metadata": {},
   "outputs": [],
   "source": []
  }
 ],
 "metadata": {
  "kernelspec": {
   "display_name": "Python 3 (ipykernel)",
   "language": "python",
   "name": "python3"
  },
  "language_info": {
   "codemirror_mode": {
    "name": "ipython",
    "version": 3
   },
   "file_extension": ".py",
   "mimetype": "text/x-python",
   "name": "python",
   "nbconvert_exporter": "python",
   "pygments_lexer": "ipython3",
   "version": "3.10.9"
  }
 },
 "nbformat": 4,
 "nbformat_minor": 5
}
