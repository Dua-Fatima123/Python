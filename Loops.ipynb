{
 "cells": [
  {
   "cell_type": "markdown",
   "id": "5b60ad2f",
   "metadata": {},
   "source": [
    "# For Loop"
   ]
  },
  {
   "cell_type": "code",
   "execution_count": 1,
   "id": "57fe099b",
   "metadata": {},
   "outputs": [
    {
     "name": "stdout",
     "output_type": "stream",
     "text": [
      "19\n",
      "26\n",
      "23\n",
      "26\n",
      "22\n",
      "Pakistan\n",
      "India\n",
      "Japan\n",
      "China\n",
      "USA\n"
     ]
    }
   ],
   "source": [
    "ages =  [19, 26, 23,26,22]\n",
    "\n",
    "for x in ages:\n",
    "    print(x)\n",
    "    \n",
    "#another example\n",
    "countries_list = [\"Pakistan\", \"India\", \"Japan\", \"China\", \"USA\"]\n",
    "\n",
    "for x in countries_list:\n",
    "    print(x)"
   ]
  },
  {
   "cell_type": "markdown",
   "id": "979a26f2",
   "metadata": {},
   "source": [
    "# While Loop\n",
    "\n"
   ]
  },
  {
   "cell_type": "code",
   "execution_count": 3,
   "id": "ed5f5caf",
   "metadata": {},
   "outputs": [
    {
     "name": "stdout",
     "output_type": "stream",
     "text": [
      "1\n",
      "2\n",
      "3\n",
      "4\n",
      "5\n"
     ]
    }
   ],
   "source": [
    "i = 1\n",
    "while i < 6:\n",
    "  print(i)\n",
    "  i += 1\n"
   ]
  },
  {
   "cell_type": "markdown",
   "id": "66b52dd9",
   "metadata": {},
   "source": [
    "# Breaking While Loop"
   ]
  },
  {
   "cell_type": "code",
   "execution_count": 7,
   "id": "29b751f3",
   "metadata": {},
   "outputs": [
    {
     "name": "stdout",
     "output_type": "stream",
     "text": [
      "100\n",
      "120\n"
     ]
    }
   ],
   "source": [
    "a = 100\n",
    "while True:\n",
    "    print(a)\n",
    "    break\n",
    "    \n",
    "#extra\n",
    "x = 120\n",
    "while True:\n",
    "    print(x)\n",
    "    break\n",
    "    "
   ]
  },
  {
   "cell_type": "code",
   "execution_count": 9,
   "id": "5714a6c5",
   "metadata": {},
   "outputs": [
    {
     "name": "stdout",
     "output_type": "stream",
     "text": [
      "\n",
      "Add a player to your team.\n",
      "Enter 'quit' when you're done: eve\n",
      "eve is banned!\n",
      "\n",
      "Add a player to your team.\n",
      "Enter 'quit' when you're done: fred\n",
      "fred is banned!\n",
      "\n",
      "Add a player to your team.\n",
      "Enter 'quit' when you're done: gary\n",
      "gary is banned!\n",
      "\n",
      "Add a player to your team.\n",
      "Enter 'quit' when you're done: dua\n",
      "\n",
      "Your team:\n",
      "\n",
      "Add a player to your team.\n",
      "Enter 'quit' when you're done: quit\n",
      "dua\n"
     ]
    }
   ],
   "source": [
    "banned_users = ['eve', 'fred', 'gary', 'helen']\n",
    "players = []\n",
    "\n",
    "while True:\n",
    "    player = input(\"\\nAdd a player to your team.\\nEnter 'quit' when you're done: \")\n",
    "\n",
    "    if player == 'quit':\n",
    "        break\n",
    "\n",
    "    if player in banned_users:\n",
    "        print(player + \" is banned!\")\n",
    "    else:\n",
    "        players.append(player)\n",
    "        print(\"\\nYour team:\")\n",
    "\n",
    "for player in players:\n",
    "    print(player)"
   ]
  },
  {
   "cell_type": "markdown",
   "id": "a85d35ec",
   "metadata": {},
   "source": [
    "# Removing values using while loop"
   ]
  },
  {
   "cell_type": "code",
   "execution_count": 6,
   "id": "7cc2aa4f",
   "metadata": {},
   "outputs": [
    {
     "name": "stdout",
     "output_type": "stream",
     "text": [
      "['dog', 'cat', 'dog', 'fish', 'cat', 'rabbit', 'cat']\n",
      "['dog', 'dog', 'fish', 'rabbit']\n",
      "['mango', 'apple', 'grapes']\n",
      "['mango', 'grapes']\n"
     ]
    }
   ],
   "source": [
    "pets = ['dog', 'cat', 'dog', 'fish', 'cat', 'rabbit', 'cat']\n",
    "print(pets)\n",
    "\n",
    "while 'cat' in pets:\n",
    "    pets.remove('cat')\n",
    "\n",
    "print(pets)\n",
    "\n",
    "#extra\n",
    "fruits=['mango','apple','grapes']\n",
    "print(fruits)\n",
    "\n",
    "while 'apple' in fruits:\n",
    "    fruits.remove('apple')\n",
    "print(fruits)"
   ]
  },
  {
   "cell_type": "code",
   "execution_count": null,
   "id": "2a72cbd7",
   "metadata": {},
   "outputs": [],
   "source": []
  }
 ],
 "metadata": {
  "kernelspec": {
   "display_name": "Python 3 (ipykernel)",
   "language": "python",
   "name": "python3"
  },
  "language_info": {
   "codemirror_mode": {
    "name": "ipython",
    "version": 3
   },
   "file_extension": ".py",
   "mimetype": "text/x-python",
   "name": "python",
   "nbconvert_exporter": "python",
   "pygments_lexer": "ipython3",
   "version": "3.10.9"
  }
 },
 "nbformat": 4,
 "nbformat_minor": 5
}
