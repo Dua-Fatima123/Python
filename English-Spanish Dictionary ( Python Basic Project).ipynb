{
 "cells": [
  {
   "cell_type": "code",
   "execution_count": 1,
   "id": "c47bfab9",
   "metadata": {},
   "outputs": [
    {
     "name": "stdout",
     "output_type": "stream",
     "text": [
      "\n",
      "===== English-Spanish Dictionary =====\n",
      "1. Translate English to Spanish\n",
      "2. Translate Spanish to English\n",
      "3. Exit\n",
      "Enter your choice (1/2/3): 1\n",
      "Enter an English word to translate to Spanish: cat\n",
      "cat in Spanish is gato.\n",
      "\n",
      "===== English-Spanish Dictionary =====\n",
      "1. Translate English to Spanish\n",
      "2. Translate Spanish to English\n",
      "3. Exit\n",
      "Enter your choice (1/2/3): 2\n",
      "Introduce una palabra en español para traducir al inglés: coche\n",
      "coche in English is car.\n",
      "\n",
      "===== English-Spanish Dictionary =====\n",
      "1. Translate English to Spanish\n",
      "2. Translate Spanish to English\n",
      "3. Exit\n",
      "Enter your choice (1/2/3): 3\n",
      "Exiting English-Spanish Dictionary.\n"
     ]
    }
   ],
   "source": [
    "english_spanish_dict = {\n",
    "    'hello': 'hola',\n",
    "    'goodbye': 'adiós',\n",
    "    'apple': 'manzana',\n",
    "    'banana': 'plátano',\n",
    "    'cat': 'gato',\n",
    "    'dog': 'perro',\n",
    "    'house': 'casa',\n",
    "    'car': 'coche',\n",
    "}\n",
    "\n",
    "while True:\n",
    "    print(\"\\n===== English-Spanish Dictionary =====\")\n",
    "    print(\"1. Translate English to Spanish\")\n",
    "    print(\"2. Translate Spanish to English\")\n",
    "    print(\"3. Exit\")\n",
    "\n",
    "    choice = input(\"Enter your choice (1/2/3): \")\n",
    "\n",
    "    if choice == '1':\n",
    "        word = input(\"Enter an English word to translate to Spanish: \").lower()\n",
    "        if word in english_spanish_dict:\n",
    "            translation = english_spanish_dict[word]\n",
    "            print(f\"{word} in Spanish is {translation}.\")\n",
    "        else:\n",
    "            print(f\"Sorry, '{word}' is not in the dictionary.\")\n",
    "\n",
    "    elif choice == '2':\n",
    "        word = input(\"Introduce una palabra en español para traducir al inglés: \").lower()\n",
    "        reversed_dict = {v: k for k, v in english_spanish_dict.items()}\n",
    "        if word in reversed_dict:\n",
    "            translation = reversed_dict[word]\n",
    "            print(f\"{word} in English is {translation}.\")\n",
    "        else:\n",
    "            print(f\"Lo siento, '{word}' no está en el diccionario.\")\n",
    "\n",
    "    elif choice == '3':\n",
    "        print(\"Exiting English-Spanish Dictionary.\")\n",
    "        break\n",
    "\n",
    "    else:\n",
    "        print(\"Invalid choice. Please choose 1, 2, or 3.\")\n",
    "\n",
    "\n",
    "\n",
    "\n",
    "\n"
   ]
  },
  {
   "cell_type": "code",
   "execution_count": null,
   "id": "33bc7e42",
   "metadata": {},
   "outputs": [],
   "source": []
  }
 ],
 "metadata": {
  "kernelspec": {
   "display_name": "Python 3 (ipykernel)",
   "language": "python",
   "name": "python3"
  },
  "language_info": {
   "codemirror_mode": {
    "name": "ipython",
    "version": 3
   },
   "file_extension": ".py",
   "mimetype": "text/x-python",
   "name": "python",
   "nbconvert_exporter": "python",
   "pygments_lexer": "ipython3",
   "version": "3.10.9"
  }
 },
 "nbformat": 4,
 "nbformat_minor": 5
}
